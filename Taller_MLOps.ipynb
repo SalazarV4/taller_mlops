{
  "cells": [
    {
      "cell_type": "markdown",
      "metadata": {
        "id": "FxYSxBYwjlhV"
      },
      "source": [
        "## Desactivar Warnings"
      ]
    },
    {
      "cell_type": "code",
      "execution_count": 2,
      "metadata": {
        "colab": {
          "base_uri": "https://localhost:8080/"
        },
        "id": "Xv8EZtcu1TDC",
        "outputId": "f47c4ba4-361d-4957-bc4d-9cf510d728e4"
      },
      "outputs": [],
      "source": [
        "import warnings\n",
        "warnings.filterwarnings('ignore')"
      ]
    },
    {
      "cell_type": "markdown",
      "metadata": {
        "id": "8fF0oaCWjsPI"
      },
      "source": [
        "## Generación de dataset sintético"
      ]
    },
    {
      "cell_type": "code",
      "execution_count": 3,
      "metadata": {
        "id": "VV1yiB-74Xt9"
      },
      "outputs": [],
      "source": [
        "from datetime import datetime, timedelta\n",
        "\n",
        "import numpy as np\n",
        "import pandas as pd\n",
        "\n",
        "\n",
        "def generate_apple_sales_data_with_promo_adjustment(base_demand: int = 1000, n_rows: int = 5000):\n",
        "    \"\"\"\n",
        "    Generates a synthetic dataset for predicting apple sales demand with seasonality and inflation.\n",
        "\n",
        "    This function creates a pandas DataFrame with features relevant to apple sales.\n",
        "    The features include date, average_temperature, rainfall, weekend flag, holiday flag,\n",
        "    promotional flag, price_per_kg, and the previous day's demand. The target variable,\n",
        "    'demand', is generated based on a combination of these features with some added noise.\n",
        "\n",
        "    Args:\n",
        "        base_demand (int, optional): Base demand for apples. Defaults to 1000.\n",
        "        n_rows (int, optional): Number of rows (days) of data to generate. Defaults to 5000.\n",
        "\n",
        "    Returns:\n",
        "        pd.DataFrame: DataFrame with features and target variable for apple sales prediction.\n",
        "\n",
        "    Example:\n",
        "        >>> df = generate_apple_sales_data_with_seasonality(base_demand=1200, n_rows=6000)\n",
        "        >>> df.head()\n",
        "    \"\"\"\n",
        "\n",
        "    # Set seed for reproducibility\n",
        "    np.random.seed(9999)\n",
        "\n",
        "    # Create date range\n",
        "    dates = [datetime.now() - timedelta(days=i) for i in range(n_rows)]\n",
        "    dates.reverse()\n",
        "\n",
        "    # Generate features\n",
        "    df = pd.DataFrame(\n",
        "        {\n",
        "            \"date\": dates,\n",
        "            \"average_temperature\": np.random.uniform(10, 35, n_rows),\n",
        "            \"rainfall\": np.random.exponential(5, n_rows),\n",
        "            \"weekend\": [(date.weekday() >= 5) * 1 for date in dates],\n",
        "            \"holiday\": np.random.choice([0, 1], n_rows, p=[0.97, 0.03]),\n",
        "            \"price_per_kg\": np.random.uniform(0.5, 3, n_rows),\n",
        "            \"month\": [date.month for date in dates],\n",
        "        }\n",
        "    )\n",
        "\n",
        "    # Introduce inflation over time (years)\n",
        "    df[\"inflation_multiplier\"] = 1 + (df[\"date\"].dt.year - df[\"date\"].dt.year.min()) * 0.03\n",
        "\n",
        "    # Incorporate seasonality due to apple harvests\n",
        "    df[\"harvest_effect\"] = np.sin(2 * np.pi * (df[\"month\"] - 3) / 12) + np.sin(\n",
        "        2 * np.pi * (df[\"month\"] - 9) / 12\n",
        "    )\n",
        "\n",
        "    # Modify the price_per_kg based on harvest effect\n",
        "    df[\"price_per_kg\"] = df[\"price_per_kg\"] - df[\"harvest_effect\"] * 0.5\n",
        "\n",
        "    # Adjust promo periods to coincide with periods lagging peak harvest by 1 month\n",
        "    peak_months = [4, 10]  # months following the peak availability\n",
        "    df[\"promo\"] = np.where(\n",
        "        df[\"month\"].isin(peak_months),\n",
        "        1,\n",
        "        np.random.choice([0, 1], n_rows, p=[0.85, 0.15]),\n",
        "    )\n",
        "\n",
        "    # Generate target variable based on features\n",
        "    base_price_effect = -df[\"price_per_kg\"] * 50\n",
        "    seasonality_effect = df[\"harvest_effect\"] * 50\n",
        "    promo_effect = df[\"promo\"] * 200\n",
        "\n",
        "    df[\"demand\"] = (\n",
        "        base_demand\n",
        "        + base_price_effect\n",
        "        + seasonality_effect\n",
        "        + promo_effect\n",
        "        + df[\"weekend\"] * 300\n",
        "        + np.random.normal(0, 50, n_rows)\n",
        "    ) * df[\"inflation_multiplier\"]  # adding random noise\n",
        "\n",
        "    # Add previous day's demand\n",
        "    df[\"previous_days_demand\"] = df[\"demand\"].shift(1)\n",
        "    df[\"previous_days_demand\"].fillna(method=\"bfill\", inplace=True)  # fill the first row\n",
        "\n",
        "    # Drop temporary columns\n",
        "    df.drop(columns=[\"inflation_multiplier\", \"harvest_effect\", \"month\"], inplace=True)\n",
        "\n",
        "    return df"
      ]
    },
    {
      "cell_type": "code",
      "execution_count": 4,
      "metadata": {
        "id": "txhBM6Na4Zrx"
      },
      "outputs": [],
      "source": [
        "data = generate_apple_sales_data_with_promo_adjustment()"
      ]
    },
    {
      "cell_type": "code",
      "execution_count": 5,
      "metadata": {
        "colab": {
          "base_uri": "https://localhost:8080/"
        },
        "id": "R0rnFIl-ry13",
        "outputId": "5bf25e29-0fe3-4ad8-9df8-b686bc419402"
      },
      "outputs": [
        {
          "data": {
            "text/html": [
              "<div>\n",
              "<style scoped>\n",
              "    .dataframe tbody tr th:only-of-type {\n",
              "        vertical-align: middle;\n",
              "    }\n",
              "\n",
              "    .dataframe tbody tr th {\n",
              "        vertical-align: top;\n",
              "    }\n",
              "\n",
              "    .dataframe thead th {\n",
              "        text-align: right;\n",
              "    }\n",
              "</style>\n",
              "<table border=\"1\" class=\"dataframe\">\n",
              "  <thead>\n",
              "    <tr style=\"text-align: right;\">\n",
              "      <th></th>\n",
              "      <th>date</th>\n",
              "      <th>average_temperature</th>\n",
              "      <th>rainfall</th>\n",
              "      <th>weekend</th>\n",
              "      <th>holiday</th>\n",
              "      <th>price_per_kg</th>\n",
              "      <th>promo</th>\n",
              "      <th>demand</th>\n",
              "      <th>previous_days_demand</th>\n",
              "    </tr>\n",
              "  </thead>\n",
              "  <tbody>\n",
              "    <tr>\n",
              "      <th>0</th>\n",
              "      <td>2011-12-07 20:30:35.690099</td>\n",
              "      <td>30.584727</td>\n",
              "      <td>1.199291</td>\n",
              "      <td>0</td>\n",
              "      <td>0</td>\n",
              "      <td>1.726258</td>\n",
              "      <td>0</td>\n",
              "      <td>851.276659</td>\n",
              "      <td>851.276659</td>\n",
              "    </tr>\n",
              "    <tr>\n",
              "      <th>1</th>\n",
              "      <td>2011-12-08 20:30:35.690097</td>\n",
              "      <td>15.465069</td>\n",
              "      <td>1.037626</td>\n",
              "      <td>0</td>\n",
              "      <td>0</td>\n",
              "      <td>0.576471</td>\n",
              "      <td>0</td>\n",
              "      <td>906.836626</td>\n",
              "      <td>851.276659</td>\n",
              "    </tr>\n",
              "    <tr>\n",
              "      <th>2</th>\n",
              "      <td>2011-12-09 20:30:35.690096</td>\n",
              "      <td>10.786525</td>\n",
              "      <td>5.656089</td>\n",
              "      <td>0</td>\n",
              "      <td>0</td>\n",
              "      <td>2.513328</td>\n",
              "      <td>0</td>\n",
              "      <td>857.895424</td>\n",
              "      <td>906.836626</td>\n",
              "    </tr>\n",
              "    <tr>\n",
              "      <th>3</th>\n",
              "      <td>2011-12-10 20:30:35.690095</td>\n",
              "      <td>23.648154</td>\n",
              "      <td>12.030937</td>\n",
              "      <td>1</td>\n",
              "      <td>0</td>\n",
              "      <td>1.839225</td>\n",
              "      <td>0</td>\n",
              "      <td>1148.961007</td>\n",
              "      <td>857.895424</td>\n",
              "    </tr>\n",
              "    <tr>\n",
              "      <th>4</th>\n",
              "      <td>2011-12-11 20:30:35.690093</td>\n",
              "      <td>13.861391</td>\n",
              "      <td>4.303812</td>\n",
              "      <td>1</td>\n",
              "      <td>0</td>\n",
              "      <td>1.531772</td>\n",
              "      <td>0</td>\n",
              "      <td>1283.128282</td>\n",
              "      <td>1148.961007</td>\n",
              "    </tr>\n",
              "  </tbody>\n",
              "</table>\n",
              "</div>"
            ],
            "text/plain": [
              "                        date  average_temperature   rainfall  weekend  \\\n",
              "0 2011-12-07 20:30:35.690099            30.584727   1.199291        0   \n",
              "1 2011-12-08 20:30:35.690097            15.465069   1.037626        0   \n",
              "2 2011-12-09 20:30:35.690096            10.786525   5.656089        0   \n",
              "3 2011-12-10 20:30:35.690095            23.648154  12.030937        1   \n",
              "4 2011-12-11 20:30:35.690093            13.861391   4.303812        1   \n",
              "\n",
              "   holiday  price_per_kg  promo       demand  previous_days_demand  \n",
              "0        0      1.726258      0   851.276659            851.276659  \n",
              "1        0      0.576471      0   906.836626            851.276659  \n",
              "2        0      2.513328      0   857.895424            906.836626  \n",
              "3        0      1.839225      0  1148.961007            857.895424  \n",
              "4        0      1.531772      0  1283.128282           1148.961007  "
            ]
          },
          "execution_count": 5,
          "metadata": {},
          "output_type": "execute_result"
        }
      ],
      "source": [
        "data.head()"
      ]
    },
    {
      "cell_type": "code",
      "execution_count": 6,
      "metadata": {},
      "outputs": [],
      "source": [
        "#Iniciar servidor de seguimiento\n",
        "import mlflow\n",
        "\n",
        "mlflow.set_tracking_uri(\"http://127.0.0.1:8080\")"
      ]
    },
    {
      "cell_type": "markdown",
      "metadata": {},
      "source": [
        "### Términos comúnes\n",
        "\n",
        "* Run (ejecución): Un entrenamiento de un modelo\n",
        "* Experimentos: Un conjunto de ejecuciones con las cuales haré comparaciones\n",
        "* Artefactos: Todo archivo que se genere a partir de una ejecución"
      ]
    },
    {
      "cell_type": "code",
      "execution_count": 7,
      "metadata": {
        "id": "J0n60wQQ49l2"
      },
      "outputs": [
        {
          "name": "stderr",
          "output_type": "stream",
          "text": [
            "2025/08/14 20:36:12 INFO mlflow.tracking.fluent: Experiment with name 'Apple_Models' does not exist. Creating a new experiment.\n"
          ]
        }
      ],
      "source": [
        "from sklearn.ensemble import RandomForestRegressor\n",
        "from sklearn.metrics import mean_absolute_error, mean_squared_error, r2_score\n",
        "from sklearn.model_selection import train_test_split\n",
        "\n",
        "# Sets the current active experiment to the \"Apple_Models\" experiment and returns the Experiment metadata\n",
        "mlflow.set_experiment(\"Apple_Models\")\n",
        "\n",
        "# Define an artifact path that the model will be saved to.\n",
        "artifact_path = \"rf_apples\""
      ]
    },
    {
      "cell_type": "code",
      "execution_count": 9,
      "metadata": {
        "id": "5L1Lu8__5EJn"
      },
      "outputs": [
        {
          "name": "stderr",
          "output_type": "stream",
          "text": [
            "2025/08/14 20:41:57 WARNING mlflow.models.model: `artifact_path` is deprecated. Please use `name` instead.\n",
            "Downloading artifacts: 100%|██████████| 7/7 [00:00<00:00, 655.23it/s]  \n"
          ]
        },
        {
          "name": "stdout",
          "output_type": "stream",
          "text": [
            "🏃 View run resilient-crane-145 at: http://127.0.0.1:8080/#/experiments/867092846214093260/runs/722c6361171d4792844e731625b8ab95\n",
            "🧪 View experiment at: http://127.0.0.1:8080/#/experiments/867092846214093260\n"
          ]
        }
      ],
      "source": [
        "# Split the data into features and target and drop irrelevant date field and target field\n",
        "X = data.drop(columns=[\"date\", \"demand\"])\n",
        "y = data[\"demand\"]\n",
        "\n",
        "# Split the data into training and validation sets\n",
        "X_train, X_val, y_train, y_val = train_test_split(X, y, test_size=0.2, random_state=42)\n",
        "\n",
        "params = {\n",
        "    \"n_estimators\": 100,\n",
        "    \"max_depth\": 6,\n",
        "    \"min_samples_split\": 10,\n",
        "    \"min_samples_leaf\": 4,\n",
        "    \"bootstrap\": True,\n",
        "    \"oob_score\": False,\n",
        "    \"random_state\": 888,\n",
        "}\n",
        "\n",
        "# Train the RandomForestRegressor\n",
        "rf = RandomForestRegressor(**params)\n",
        "\n",
        "# Fit the model on the training data\n",
        "rf.fit(X_train, y_train)\n",
        "\n",
        "# Predict on the validation set\n",
        "y_pred = rf.predict(X_val)\n",
        "\n",
        "# Calculate error metrics\n",
        "mae = mean_absolute_error(y_val, y_pred)\n",
        "mse = mean_squared_error(y_val, y_pred)\n",
        "rmse = np.sqrt(mse)\n",
        "r2 = r2_score(y_val, y_pred)\n",
        "\n",
        "# Assemble the metrics we're going to write into a collection\n",
        "metrics = {\"mae\": mae, \"mse\": mse, \"rmse\": rmse, \"r2\": r2}\n",
        "    \n",
        "\n",
        "# Initiate the MLflow run context\n",
        "with mlflow.start_run() as run:\n",
        "\n",
        "    mlflow.log_params(params=params)\n",
        "\n",
        "    mlflow.log_metrics(metrics=metrics)\n",
        "\n",
        "    mlflow.sklearn.log_model(sk_model=rf,\n",
        "                             input_example=X_train,\n",
        "                             artifact_path=artifact_path)"
      ]
    },
    {
      "cell_type": "markdown",
      "metadata": {
        "id": "qorqcM0Dj-e8"
      },
      "source": [
        "## Ajuste de Hiperparámetros y Autologging"
      ]
    },
    {
      "cell_type": "code",
      "execution_count": null,
      "metadata": {},
      "outputs": [],
      "source": [
        "mlflow.sklearn.autolog()"
      ]
    },
    {
      "cell_type": "code",
      "execution_count": 10,
      "metadata": {
        "id": "jQ7IA6LvjYST"
      },
      "outputs": [
        {
          "name": "stdout",
          "output_type": "stream",
          "text": [
            "Fitting 5 folds for each of 12 candidates, totalling 60 fits\n"
          ]
        },
        {
          "name": "stderr",
          "output_type": "stream",
          "text": [
            "2025/08/14 20:49:13 INFO mlflow.sklearn.utils: Logging the 10 best runs, 2 runs will be omitted.\n"
          ]
        },
        {
          "name": "stdout",
          "output_type": "stream",
          "text": [
            "🏃 View run capricious-robin-341 at: http://127.0.0.1:8080/#/experiments/867092846214093260/runs/d313b06c5a014cb0bc4cee7deb48e6ea\n",
            "🧪 View experiment at: http://127.0.0.1:8080/#/experiments/867092846214093260\n",
            "🏃 View run bouncy-pug-22 at: http://127.0.0.1:8080/#/experiments/867092846214093260/runs/77016e4ac1a04590933408df7e38ebd9\n",
            "🧪 View experiment at: http://127.0.0.1:8080/#/experiments/867092846214093260\n",
            "🏃 View run mercurial-cow-347 at: http://127.0.0.1:8080/#/experiments/867092846214093260/runs/dc7442ffd6f84c619cfe5a56da355d1e\n",
            "🧪 View experiment at: http://127.0.0.1:8080/#/experiments/867092846214093260\n",
            "🏃 View run handsome-lamb-134 at: http://127.0.0.1:8080/#/experiments/867092846214093260/runs/88b985b7af424d478af7a450cd72cba7\n",
            "🧪 View experiment at: http://127.0.0.1:8080/#/experiments/867092846214093260\n",
            "🏃 View run gaudy-moth-38 at: http://127.0.0.1:8080/#/experiments/867092846214093260/runs/009a9ec7598b46329755c79178e7d5e0\n",
            "🧪 View experiment at: http://127.0.0.1:8080/#/experiments/867092846214093260\n",
            "🏃 View run exultant-fawn-257 at: http://127.0.0.1:8080/#/experiments/867092846214093260/runs/e09992a7609d4638bc460ce4f91d91b2\n",
            "🧪 View experiment at: http://127.0.0.1:8080/#/experiments/867092846214093260\n",
            "🏃 View run omniscient-crane-531 at: http://127.0.0.1:8080/#/experiments/867092846214093260/runs/496ebe0eeb51400d970897da6c4ec696\n",
            "🧪 View experiment at: http://127.0.0.1:8080/#/experiments/867092846214093260\n",
            "🏃 View run marvelous-bug-358 at: http://127.0.0.1:8080/#/experiments/867092846214093260/runs/4f165cf5ee8a414bb9a42cdd54876843\n",
            "🧪 View experiment at: http://127.0.0.1:8080/#/experiments/867092846214093260\n",
            "🏃 View run burly-panda-966 at: http://127.0.0.1:8080/#/experiments/867092846214093260/runs/65703b8de4f94d3a89fb8ccfb64152c8\n",
            "🧪 View experiment at: http://127.0.0.1:8080/#/experiments/867092846214093260\n",
            "🏃 View run rare-skink-224 at: http://127.0.0.1:8080/#/experiments/867092846214093260/runs/94135fc897ea4f2ebd3e070395c42518\n",
            "🧪 View experiment at: http://127.0.0.1:8080/#/experiments/867092846214093260\n",
            "Best parameters: {'alpha': 1, 'fit_intercept': True}\n",
            "Best cross-validation score: -15674.169\n",
            "Test score: -15044.454\n",
            "🏃 View run Ridge Regression Tuning at: http://127.0.0.1:8080/#/experiments/867092846214093260/runs/4b0cb7be1f644e3092db622df5d69030\n",
            "🧪 View experiment at: http://127.0.0.1:8080/#/experiments/867092846214093260\n"
          ]
        }
      ],
      "source": [
        "import mlflow\n",
        "from sklearn.model_selection import GridSearchCV\n",
        "from sklearn.linear_model import Ridge\n",
        "# Enable autologging with hyperparameter tuning support\n",
        "  # Track top 10 parameter combinations\n",
        "mlflow.sklearn.autolog(max_tuning_runs=10)\n",
        "# Define parameter grid\n",
        "param_grid = {\n",
        "    'alpha': [0.001, 0.01, 0.1, 1, 10, 100],\n",
        "    'fit_intercept': [True, False]\n",
        "}\n",
        "\n",
        "\n",
        "with mlflow.start_run(run_name=\"Ridge Regression Tuning\"):\n",
        "    # Create and fit GridSearchCVd\n",
        "    ridge = Ridge(random_state=42)\n",
        "    grid_search = GridSearchCV(\n",
        "        ridge, param_grid, cv=5, scoring=\"neg_mean_squared_error\", n_jobs=-1, verbose=1\n",
        "    )\n",
        "\n",
        "    grid_search.fit(X_train, y_train)\n",
        "\n",
        "    # Best model evaluation\n",
        "    best_score = grid_search.score(X_val, y_val)\n",
        "    print(f\"Best parameters: {grid_search.best_params_}\")\n",
        "    print(f\"Best cross-validation score: {grid_search.best_score_:.3f}\")\n",
        "    print(f\"Test score: {best_score:.3f}\")"
      ]
    },
    {
      "cell_type": "markdown",
      "metadata": {},
      "source": [
        "## Registro de modelos y Despliegue\n",
        "El **registro de modelos** trata de una base de datos que servirá para el control de \\\n",
        "versiones y seguimiento de mis mejores modelos para ser considerados en producción"
      ]
    },
    {
      "cell_type": "code",
      "execution_count": 12,
      "metadata": {},
      "outputs": [
        {
          "name": "stdout",
          "output_type": "stream",
          "text": [
            "Predicted apples demand: 1339.87\n"
          ]
        }
      ],
      "source": [
        "import requests\n",
        "import json\n",
        "\n",
        "# Prepare test data\n",
        "apples_data = {\n",
        "    \"dataframe_split\": {\n",
        "        \"columns\": [\n",
        "            'average_temperature',\n",
        "            'rainfall',\n",
        "            'weekend',\n",
        "            'holiday',\n",
        "            'price_per_kg',\n",
        "            'promo',\n",
        "            'previous_days_demand'],\n",
        "        \"data\": [[30.584727, 1.199291, 1, 0, 1.726258, 0,  851.276659]],\n",
        "    }\n",
        "}\n",
        "\n",
        "# Make prediction request\n",
        "response = requests.post(\n",
        "    \"http://localhost:5002/invocations\",\n",
        "    headers={\"Content-Type\": \"application/json\"},\n",
        "    data=json.dumps(apples_data),\n",
        ")\n",
        "\n",
        "prediction = response.json()\n",
        "print(f\"Predicted apples demand: {prediction['predictions'][0]:.2f}\")"
      ]
    },
    {
      "cell_type": "markdown",
      "metadata": {},
      "source": [
        "### DVC Pipelines\n",
        "\n",
        "#### Ejemplo de Pipeline\n",
        "- Stage 1: prepare.py\n",
        "- Stage 2: featurization.py\n",
        "- Stage 3: train.py\n",
        "- Stage 4: evalulate.py\n",
        "\n",
        "#### Flags:\n",
        "* -n: Nombre de la etapa\n",
        "* -p: Parámetros del script\n",
        "* -d: Dependencias (De que archivos depende mi script)\n",
        "* -o: La salida del script"
      ]
    }
  ],
  "metadata": {
    "colab": {
      "provenance": []
    },
    "kernelspec": {
      "display_name": "venv",
      "language": "python",
      "name": "python3"
    },
    "language_info": {
      "codemirror_mode": {
        "name": "ipython",
        "version": 3
      },
      "file_extension": ".py",
      "mimetype": "text/x-python",
      "name": "python",
      "nbconvert_exporter": "python",
      "pygments_lexer": "ipython3",
      "version": "3.13.5"
    }
  },
  "nbformat": 4,
  "nbformat_minor": 0
}
